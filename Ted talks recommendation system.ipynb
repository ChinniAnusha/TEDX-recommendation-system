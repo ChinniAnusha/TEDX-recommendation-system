{
 "cells": [
  {
   "cell_type": "code",
   "execution_count": 1,
   "id": "151fdecc",
   "metadata": {
    "scrolled": true
   },
   "outputs": [
    {
     "name": "stdout",
     "output_type": "stream",
     "text": [
      "Defaulting to user installation because normal site-packages is not writeable\n",
      "Requirement already satisfied: pandas in c:\\programdata\\anaconda3\\lib\\site-packages (2.0.3)\n",
      "Requirement already satisfied: numpy in c:\\programdata\\anaconda3\\lib\\site-packages (1.24.3)\n",
      "Requirement already satisfied: matplotlib in c:\\programdata\\anaconda3\\lib\\site-packages (3.7.2)\n",
      "Requirement already satisfied: wordcloud in c:\\users\\anush\\appdata\\roaming\\python\\python311\\site-packages (1.9.4)\n",
      "Requirement already satisfied: nltk in c:\\programdata\\anaconda3\\lib\\site-packages (3.8.1)\n",
      "Requirement already satisfied: scikit-learn in c:\\programdata\\anaconda3\\lib\\site-packages (1.3.0)\n",
      "Requirement already satisfied: python-dateutil>=2.8.2 in c:\\programdata\\anaconda3\\lib\\site-packages (from pandas) (2.8.2)\n",
      "Requirement already satisfied: pytz>=2020.1 in c:\\programdata\\anaconda3\\lib\\site-packages (from pandas) (2023.3.post1)\n",
      "Requirement already satisfied: tzdata>=2022.1 in c:\\programdata\\anaconda3\\lib\\site-packages (from pandas) (2023.3)\n",
      "Requirement already satisfied: contourpy>=1.0.1 in c:\\programdata\\anaconda3\\lib\\site-packages (from matplotlib) (1.0.5)\n",
      "Requirement already satisfied: cycler>=0.10 in c:\\programdata\\anaconda3\\lib\\site-packages (from matplotlib) (0.11.0)\n",
      "Requirement already satisfied: fonttools>=4.22.0 in c:\\programdata\\anaconda3\\lib\\site-packages (from matplotlib) (4.25.0)\n",
      "Requirement already satisfied: kiwisolver>=1.0.1 in c:\\programdata\\anaconda3\\lib\\site-packages (from matplotlib) (1.4.4)\n",
      "Requirement already satisfied: packaging>=20.0 in c:\\programdata\\anaconda3\\lib\\site-packages (from matplotlib) (23.1)\n",
      "Requirement already satisfied: pillow>=6.2.0 in c:\\programdata\\anaconda3\\lib\\site-packages (from matplotlib) (9.4.0)\n",
      "Requirement already satisfied: pyparsing<3.1,>=2.3.1 in c:\\programdata\\anaconda3\\lib\\site-packages (from matplotlib) (3.0.9)\n",
      "Requirement already satisfied: click in c:\\programdata\\anaconda3\\lib\\site-packages (from nltk) (8.0.4)\n",
      "Requirement already satisfied: joblib in c:\\programdata\\anaconda3\\lib\\site-packages (from nltk) (1.2.0)\n",
      "Requirement already satisfied: regex>=2021.8.3 in c:\\programdata\\anaconda3\\lib\\site-packages (from nltk) (2022.7.9)\n",
      "Requirement already satisfied: tqdm in c:\\programdata\\anaconda3\\lib\\site-packages (from nltk) (4.65.0)\n",
      "Requirement already satisfied: scipy>=1.5.0 in c:\\programdata\\anaconda3\\lib\\site-packages (from scikit-learn) (1.11.1)\n",
      "Requirement already satisfied: threadpoolctl>=2.0.0 in c:\\programdata\\anaconda3\\lib\\site-packages (from scikit-learn) (2.2.0)\n",
      "Requirement already satisfied: six>=1.5 in c:\\programdata\\anaconda3\\lib\\site-packages (from python-dateutil>=2.8.2->pandas) (1.16.0)\n",
      "Requirement already satisfied: colorama in c:\\programdata\\anaconda3\\lib\\site-packages (from click->nltk) (0.4.6)\n"
     ]
    }
   ],
   "source": [
    "# Install Required Libraries\n",
    "!pip install pandas numpy matplotlib wordcloud nltk scikit-learn\n",
    "\n",
    "\n"
   ]
  },
  {
   "cell_type": "code",
   "execution_count": 2,
   "id": "8f78b339",
   "metadata": {},
   "outputs": [
    {
     "name": "stdout",
     "output_type": "stream",
     "text": [
      "                                idx       main_speaker  \\\n",
      "0  8d2005ec35280deb6a438dc87b225f89     Alexandra Auer   \n",
      "1  b3072cd11f40eb57fd259555264476c6  Elizabeth Gilbert   \n",
      "2  4adc9fee977fa04c357ed4c9b52aa3cc       Butterscotch   \n",
      "3  59c641a72b495d522a7932145d6c02b3         Ethan Lisi   \n",
      "4  d227f2faf6ec185e54436d86463f499b      Daniel Finkel   \n",
      "\n",
      "                                               title  \\\n",
      "0                    The intangible effects of walls   \n",
      "1  It's OK to feel overwhelmed. Here's what to do...   \n",
      "2                                  \"Accept Who I Am\"   \n",
      "3               What it's really like to have autism   \n",
      "4              Can you solve the sea monster riddle?   \n",
      "\n",
      "                                             details           posted  \\\n",
      "0  More barriers exist now than at the end of Wor...  Posted Apr 2020   \n",
      "1  If you're feeling anxious or fearful during th...  Posted Apr 2020   \n",
      "2  Firing off her formidable beatboxing skills, m...  Posted Apr 2020   \n",
      "3  \"Autism is not a disease; it's just another wa...  Posted Apr 2020   \n",
      "4  According to legend, once every thousand years...  Posted Apr 2020   \n",
      "\n",
      "                                                 url  num_views  \n",
      "0  https://www.ted.com/talks/alexandra_auer_the_i...        NaN  \n",
      "1  https://www.ted.com/talks/elizabeth_gilbert_it...        NaN  \n",
      "2  https://www.ted.com/talks/butterscotch_accept_...        0.0  \n",
      "3  https://www.ted.com/talks/ethan_lisi_what_it_s...        NaN  \n",
      "4  https://www.ted.com/talks/daniel_finkel_can_yo...        0.0  \n"
     ]
    }
   ],
   "source": [
    "#Data Preprocessing\n",
    "#Load and Inspect the Data\n",
    "import pandas as pd\n",
    "\n",
    "df = pd.read_csv(\"C:/Users/anush/Downloads/tedx_dataset.csv\")\n",
    "print(df.head())\n"
   ]
  },
  {
   "cell_type": "code",
   "execution_count": 8,
   "id": "246847ce",
   "metadata": {},
   "outputs": [
    {
     "name": "stdout",
     "output_type": "stream",
     "text": [
      "idx                0\n",
      "main_speaker       1\n",
      "title              0\n",
      "details            0\n",
      "posted             0\n",
      "url                0\n",
      "num_views       4258\n",
      "dtype: int64\n"
     ]
    }
   ],
   "source": [
    "#Handle Missing Values\n",
    "##Check for and handle missing values\n",
    "print(df.isnull().sum())\n",
    "df.dropna(inplace=True)\n"
   ]
  },
  {
   "cell_type": "code",
   "execution_count": 10,
   "id": "b9c0e59b",
   "metadata": {},
   "outputs": [],
   "source": [
    "#Extract Year and Month\n",
    "##Extract the year and month from the posted column\n",
    "import pandas as pd\n",
    "\n",
    "# Step 1: Load the dataset\n",
    "df = pd.read_csv(\"C:/Users/anush/Downloads/tedx_dataset.csv\")\n",
    "\n",
    "# Step 2: Remove 'Posted ' from the 'posted' column\n",
    "df['posted_clean'] = df['posted'].str.replace(\"Posted \", \"\", regex=False)\n",
    "\n",
    "# Step 3: Convert cleaned column to datetime\n",
    "df['posted_clean'] = pd.to_datetime(df['posted_clean'], format=\"%b %Y\", errors='coerce')\n",
    "\n",
    "# Step 4: Extract year and month\n",
    "df['year'] = df['posted_clean'].dt.year\n",
    "df['month'] = df['posted_clean'].dt.month\n",
    "\n"
   ]
  },
  {
   "cell_type": "code",
   "execution_count": 11,
   "id": "46695155",
   "metadata": {},
   "outputs": [],
   "source": [
    "#Combine Title and Details\n",
    "##Create a new column that combines the title and details\n",
    "df['combined'] = df['title'] + ' ' + df['details']\n"
   ]
  },
  {
   "cell_type": "code",
   "execution_count": 12,
   "id": "9bcc832e",
   "metadata": {},
   "outputs": [],
   "source": [
    "# Text Processing and Feature Extraction\n",
    "#Text Cleaning\n",
    "##Use NLTK to clean the text data:\n",
    "import nltk\n",
    "import string\n",
    "from nltk.corpus import stopwords\n",
    "\n",
    "nltk.download('stopwords')\n",
    "stop_words = set(stopwords.words('english'))\n",
    "\n",
    "def preprocess_text(text):\n",
    "    text = text.lower()\n",
    "    text = text.translate(str.maketrans('', '', string.punctuation))\n",
    "    tokens = text.split()\n",
    "    tokens = [word for word in tokens if word not in stop_words]\n",
    "    return ' '.join(tokens)\n",
    "\n",
    "df['processed'] = df['combined'].apply(preprocess_text)\n"
   ]
  },
  {
   "cell_type": "code",
   "execution_count": 13,
   "id": "54df9e34",
   "metadata": {},
   "outputs": [],
   "source": [
    "#TF-IDF Vectorization\n",
    "##Convert the text data into numerical features using TF-IDF\n",
    "from sklearn.feature_extraction.text import TfidfVectorizer\n",
    "\n",
    "vectorizer = TfidfVectorizer()\n",
    "tfidf_matrix = vectorizer.fit_transform(df['processed'])\n"
   ]
  },
  {
   "cell_type": "code",
   "execution_count": 14,
   "id": "a6339229",
   "metadata": {},
   "outputs": [],
   "source": [
    "#Build the Recommendation System (1 hour)\n",
    "##Compute Cosine Similarity\n",
    "##Calculate the cosine similarity between the TF-IDF vectors:\n",
    "from sklearn.metrics.pairwise import cosine_similarity\n",
    "\n",
    "cosine_sim = cosine_similarity(tfidf_matrix, tfidf_matrix)\n"
   ]
  },
  {
   "cell_type": "code",
   "execution_count": 15,
   "id": "d994dccb",
   "metadata": {},
   "outputs": [],
   "source": [
    "#Define Recommendation Function\n",
    "##Create a function to get recommendations based on a given TED Talk title:\n",
    "\n",
    "def get_recommendations(title, cosine_sim=cosine_sim):\n",
    "    indices = pd.Series(df.index, index=df['title']).drop_duplicates()\n",
    "    idx = indices[title]\n",
    "    sim_scores = list(enumerate(cosine_sim[idx]))\n",
    "    sim_scores = sorted(sim_scores, key=lambda x: x[1], reverse=True)\n",
    "    sim_scores = sim_scores[1:6]\n",
    "    talk_indices = [i[0] for i in sim_scores]\n",
    "    return df['title'].iloc[talk_indices]\n"
   ]
  },
  {
   "cell_type": "code",
   "execution_count": 17,
   "id": "2537c039",
   "metadata": {},
   "outputs": [
    {
     "name": "stdout",
     "output_type": "stream",
     "text": [
      "0                      The intangible effects of walls\n",
      "1    It's OK to feel overwhelmed. Here's what to do...\n",
      "2                                    \"Accept Who I Am\"\n",
      "3                 What it's really like to have autism\n",
      "4                Can you solve the sea monster riddle?\n",
      "5                 Why sleep matters now more than ever\n",
      "6       How to make pandemics optional, not inevitable\n",
      "7    How you can help save the monarch butterfly — ...\n",
      "8                            History vs. Sigmund Freud\n",
      "9    How we can navigate the coronavirus pandemic w...\n",
      "Name: title, dtype: object\n"
     ]
    }
   ],
   "source": [
    "print(df['title'].head(10))\n"
   ]
  },
  {
   "cell_type": "code",
   "execution_count": 18,
   "id": "e683480d",
   "metadata": {},
   "outputs": [
    {
     "name": "stdout",
     "output_type": "stream",
     "text": [
      "2230                      The forgotten history of autism\n",
      "3205                         A new way to diagnose autism\n",
      "2590    Autism — what we know (and what we don't know ...\n",
      "731                              The ruralities of autism\n",
      "1608                To understand autism, don't look away\n",
      "Name: title, dtype: object\n"
     ]
    }
   ],
   "source": [
    "#Test the Recommendation System\n",
    "##Test the recommendation function with a sample title\n",
    "print(get_recommendations(\"What it's really like to have autism\"))\n"
   ]
  },
  {
   "cell_type": "code",
   "execution_count": null,
   "id": "0f10196d",
   "metadata": {},
   "outputs": [],
   "source": []
  }
 ],
 "metadata": {
  "kernelspec": {
   "display_name": "Python 3 (ipykernel)",
   "language": "python",
   "name": "python3"
  },
  "language_info": {
   "codemirror_mode": {
    "name": "ipython",
    "version": 3
   },
   "file_extension": ".py",
   "mimetype": "text/x-python",
   "name": "python",
   "nbconvert_exporter": "python",
   "pygments_lexer": "ipython3",
   "version": "3.11.5"
  }
 },
 "nbformat": 4,
 "nbformat_minor": 5
}
